{
 "cells": [
  {
   "cell_type": "code",
   "execution_count": 1,
   "id": "cb6a9913-8236-418b-bd66-27c01d0fe22a",
   "metadata": {},
   "outputs": [
    {
     "name": "stdin",
     "output_type": "stream",
     "text": [
      "Enter the marks: 50\n"
     ]
    },
    {
     "name": "stdout",
     "output_type": "stream",
     "text": [
      "Grade D\n"
     ]
    }
   ],
   "source": [
    "# Q.1 Write a program to accept percentage from the user and display the grade according to the following criteria:\n",
    "\n",
    "marks=int(input(\"Enter the marks:\"))\n",
    "\n",
    "if marks > 90 :\n",
    "    print(\"Grade A\")\n",
    "elif marks > 80 and marks <= 90 :\n",
    "    print(\"Grade B\")\n",
    "elif marks >= 60 and marks <=80 :\n",
    "    print(\"Grade C\")\n",
    "else :\n",
    "    print(\"Grade D\")\n",
    "    "
   ]
  },
  {
   "cell_type": "code",
   "execution_count": 2,
   "id": "802970b7-99d3-41e2-9b91-8b70b5fe3748",
   "metadata": {},
   "outputs": [
    {
     "name": "stdin",
     "output_type": "stream",
     "text": [
      "Enter the cost price of the bike: 50000\n"
     ]
    },
    {
     "name": "stdout",
     "output_type": "stream",
     "text": [
      "5000.0\n"
     ]
    }
   ],
   "source": [
    "# Q.2 Write a program to accept the cost price of a bike and display the road tax to be paid according to the followindg criteria :\n",
    "\n",
    "cost_price=int(input(\"Enter the cost price of the bike:\"))\n",
    "\n",
    "if cost_price > 100000   :\n",
    "    print(cost_price*0.15)\n",
    "elif cost_price >50000 or cost_price<=100000:\n",
    "    print(cost_price*0.1)\n",
    "else:\n",
    "    print(cost_price*0.05)\n"
   ]
  },
  {
   "cell_type": "code",
   "execution_count": 3,
   "id": "2e1dde81-aaef-44c8-96fc-e17a9ac89735",
   "metadata": {},
   "outputs": [
    {
     "name": "stdin",
     "output_type": "stream",
     "text": [
      "Enter the name: Delhi\n"
     ]
    },
    {
     "name": "stdout",
     "output_type": "stream",
     "text": [
      "Red Fort\n"
     ]
    }
   ],
   "source": [
    "# Q.3 Accept any city from the user and display monument of the city.\n",
    "\n",
    "city=str(input(\"Enter the name:\"))\n",
    "\n",
    "if city == \"Delhi\" :\n",
    "    print(\"Red Fort\")\n",
    "elif city == \"Agra\" :\n",
    "    print(\"Taj Mahal\")\n",
    "elif city == \"Jaipur\" :\n",
    "    print(\"Jal Mahal\")"
   ]
  },
  {
   "cell_type": "code",
   "execution_count": 4,
   "id": "64ca4b6c-1024-47bb-b316-664c850e21f3",
   "metadata": {},
   "outputs": [
    {
     "name": "stdin",
     "output_type": "stream",
     "text": [
      "Enter the vlaue: 24\n"
     ]
    },
    {
     "data": {
      "text/plain": [
       "1"
      ]
     },
     "execution_count": 4,
     "metadata": {},
     "output_type": "execute_result"
    }
   ],
   "source": [
    "# Q.4Check how many time a given number can be devided by 3 before it is less than or equal to 10.\n",
    "\n",
    "n=int(input(\"Enter the vlaue:\"))\n",
    "count = 0\n",
    "while n > 10:\n",
    "        n = n / 3\n",
    "        count=count+1\n",
    "count\n"
   ]
  },
  {
   "cell_type": "code",
   "execution_count": 4,
   "id": "dae7ac7b-b6a3-4617-8b7f-09fe4b7005ef",
   "metadata": {},
   "outputs": [
    {
     "name": "stdin",
     "output_type": "stream",
     "text": [
      "Enter your number here-> 29\n"
     ]
    },
    {
     "name": "stdout",
     "output_type": "stream",
     "text": [
      "29 * 1 = 29\n",
      "29 * 2 = 58\n",
      "29 * 3 = 87\n",
      "29 * 4 = 116\n",
      "29 * 5 = 145\n",
      "29 * 6 = 174\n",
      "29 * 7 = 203\n",
      "29 * 8 = 232\n",
      "29 * 9 = 261\n",
      "29 * 10 = 290\n"
     ]
    }
   ],
   "source": [
    "# Q.5 Why and when to use while loop in python give a detailed discripion with example.\n",
    "\n",
    "\"\"\"Generally while loop is use,when you don't know the number of iterations.\"\"\"\n",
    "\n",
    "# Let's use while loop for reverse the string.\n",
    "\n",
    "s=\"mihir\"\n",
    "s1=\"\"\n",
    "length=len(s)\n",
    "\n",
    "while length>0:\n",
    "    s1=s1+s[length-1]\n",
    "    length=length-1\n",
    "s1\n",
    "\n",
    "\n",
    "# Let's use the while loop for print the table of given number.\n",
    "\n",
    "number=int(input(\"Enter your number here->\"))\n",
    "i=1\n",
    "\n",
    "while i<=10:\n",
    "    result=number*i\n",
    "    print(number,\"*\",i,\"=\",result)\n",
    "    i=i+1\n",
    "    \n",
    "\n",
    "\n",
    "\n"
   ]
  },
  {
   "cell_type": "code",
   "execution_count": 10,
   "id": "eb84752b-c33b-4a7d-8740-3f27f1fb616f",
   "metadata": {},
   "outputs": [
    {
     "name": "stdin",
     "output_type": "stream",
     "text": [
      "Enter number of rows :  50\n"
     ]
    },
    {
     "name": "stdout",
     "output_type": "stream",
     "text": [
      "1 \n",
      "1 2 \n",
      "1 2 3 \n",
      "1 2 3 4 \n",
      "1 2 3 4 5 \n",
      "1 2 3 4 5 6 \n",
      "1 2 3 4 5 6 7 \n",
      "1 2 3 4 5 6 7 8 \n",
      "1 2 3 4 5 6 7 8 9 \n",
      "1 2 3 4 5 6 7 8 9 10 \n",
      "1 2 3 4 5 6 7 8 9 10 11 \n",
      "1 2 3 4 5 6 7 8 9 10 11 12 \n",
      "1 2 3 4 5 6 7 8 9 10 11 12 13 \n",
      "1 2 3 4 5 6 7 8 9 10 11 12 13 14 \n",
      "1 2 3 4 5 6 7 8 9 10 11 12 13 14 15 \n",
      "1 2 3 4 5 6 7 8 9 10 11 12 13 14 15 16 \n",
      "1 2 3 4 5 6 7 8 9 10 11 12 13 14 15 16 17 \n",
      "1 2 3 4 5 6 7 8 9 10 11 12 13 14 15 16 17 18 \n",
      "1 2 3 4 5 6 7 8 9 10 11 12 13 14 15 16 17 18 19 \n",
      "1 2 3 4 5 6 7 8 9 10 11 12 13 14 15 16 17 18 19 20 \n",
      "1 2 3 4 5 6 7 8 9 10 11 12 13 14 15 16 17 18 19 20 21 \n",
      "1 2 3 4 5 6 7 8 9 10 11 12 13 14 15 16 17 18 19 20 21 22 \n",
      "1 2 3 4 5 6 7 8 9 10 11 12 13 14 15 16 17 18 19 20 21 22 23 \n",
      "1 2 3 4 5 6 7 8 9 10 11 12 13 14 15 16 17 18 19 20 21 22 23 24 \n",
      "1 2 3 4 5 6 7 8 9 10 11 12 13 14 15 16 17 18 19 20 21 22 23 24 25 \n",
      "1 2 3 4 5 6 7 8 9 10 11 12 13 14 15 16 17 18 19 20 21 22 23 24 25 26 \n",
      "1 2 3 4 5 6 7 8 9 10 11 12 13 14 15 16 17 18 19 20 21 22 23 24 25 26 27 \n",
      "1 2 3 4 5 6 7 8 9 10 11 12 13 14 15 16 17 18 19 20 21 22 23 24 25 26 27 28 \n",
      "1 2 3 4 5 6 7 8 9 10 11 12 13 14 15 16 17 18 19 20 21 22 23 24 25 26 27 28 29 \n",
      "1 2 3 4 5 6 7 8 9 10 11 12 13 14 15 16 17 18 19 20 21 22 23 24 25 26 27 28 29 30 \n",
      "1 2 3 4 5 6 7 8 9 10 11 12 13 14 15 16 17 18 19 20 21 22 23 24 25 26 27 28 29 30 31 \n",
      "1 2 3 4 5 6 7 8 9 10 11 12 13 14 15 16 17 18 19 20 21 22 23 24 25 26 27 28 29 30 31 32 \n",
      "1 2 3 4 5 6 7 8 9 10 11 12 13 14 15 16 17 18 19 20 21 22 23 24 25 26 27 28 29 30 31 32 33 \n",
      "1 2 3 4 5 6 7 8 9 10 11 12 13 14 15 16 17 18 19 20 21 22 23 24 25 26 27 28 29 30 31 32 33 34 \n",
      "1 2 3 4 5 6 7 8 9 10 11 12 13 14 15 16 17 18 19 20 21 22 23 24 25 26 27 28 29 30 31 32 33 34 35 \n",
      "1 2 3 4 5 6 7 8 9 10 11 12 13 14 15 16 17 18 19 20 21 22 23 24 25 26 27 28 29 30 31 32 33 34 35 36 \n",
      "1 2 3 4 5 6 7 8 9 10 11 12 13 14 15 16 17 18 19 20 21 22 23 24 25 26 27 28 29 30 31 32 33 34 35 36 37 \n",
      "1 2 3 4 5 6 7 8 9 10 11 12 13 14 15 16 17 18 19 20 21 22 23 24 25 26 27 28 29 30 31 32 33 34 35 36 37 38 \n",
      "1 2 3 4 5 6 7 8 9 10 11 12 13 14 15 16 17 18 19 20 21 22 23 24 25 26 27 28 29 30 31 32 33 34 35 36 37 38 39 \n",
      "1 2 3 4 5 6 7 8 9 10 11 12 13 14 15 16 17 18 19 20 21 22 23 24 25 26 27 28 29 30 31 32 33 34 35 36 37 38 39 40 \n",
      "1 2 3 4 5 6 7 8 9 10 11 12 13 14 15 16 17 18 19 20 21 22 23 24 25 26 27 28 29 30 31 32 33 34 35 36 37 38 39 40 41 \n",
      "1 2 3 4 5 6 7 8 9 10 11 12 13 14 15 16 17 18 19 20 21 22 23 24 25 26 27 28 29 30 31 32 33 34 35 36 37 38 39 40 41 42 \n",
      "1 2 3 4 5 6 7 8 9 10 11 12 13 14 15 16 17 18 19 20 21 22 23 24 25 26 27 28 29 30 31 32 33 34 35 36 37 38 39 40 41 42 43 \n",
      "1 2 3 4 5 6 7 8 9 10 11 12 13 14 15 16 17 18 19 20 21 22 23 24 25 26 27 28 29 30 31 32 33 34 35 36 37 38 39 40 41 42 43 44 \n",
      "1 2 3 4 5 6 7 8 9 10 11 12 13 14 15 16 17 18 19 20 21 22 23 24 25 26 27 28 29 30 31 32 33 34 35 36 37 38 39 40 41 42 43 44 45 \n",
      "1 2 3 4 5 6 7 8 9 10 11 12 13 14 15 16 17 18 19 20 21 22 23 24 25 26 27 28 29 30 31 32 33 34 35 36 37 38 39 40 41 42 43 44 45 46 \n",
      "1 2 3 4 5 6 7 8 9 10 11 12 13 14 15 16 17 18 19 20 21 22 23 24 25 26 27 28 29 30 31 32 33 34 35 36 37 38 39 40 41 42 43 44 45 46 47 \n",
      "1 2 3 4 5 6 7 8 9 10 11 12 13 14 15 16 17 18 19 20 21 22 23 24 25 26 27 28 29 30 31 32 33 34 35 36 37 38 39 40 41 42 43 44 45 46 47 48 \n",
      "1 2 3 4 5 6 7 8 9 10 11 12 13 14 15 16 17 18 19 20 21 22 23 24 25 26 27 28 29 30 31 32 33 34 35 36 37 38 39 40 41 42 43 44 45 46 47 48 49 \n",
      "1 2 3 4 5 6 7 8 9 10 11 12 13 14 15 16 17 18 19 20 21 22 23 24 25 26 27 28 29 30 31 32 33 34 35 36 37 38 39 40 41 42 43 44 45 46 47 48 49 50 \n"
     ]
    }
   ],
   "source": [
    "# Q.6 Use nested while loop for print 3 different type of patterns.\n",
    "\n",
    "#1\n",
    "num = int(input('Enter number of rows : '))\n",
    "i = 1\n",
    "while i <= num :\n",
    "    j = 1\n",
    "    while j <= i:\n",
    "        print(j, end = \" \")\n",
    "        j=j+1\n",
    "    print()\n",
    "    i=i+1\n"
   ]
  },
  {
   "cell_type": "code",
   "execution_count": 11,
   "id": "4f467824-3283-4a61-91d9-55b31b0ef94a",
   "metadata": {},
   "outputs": [
    {
     "name": "stdin",
     "output_type": "stream",
     "text": [
      "Enter number of rows :  5\n"
     ]
    },
    {
     "name": "stdout",
     "output_type": "stream",
     "text": [
      "* * * * * \n",
      "* * * * \n",
      "* * * \n",
      "* * \n",
      "* \n"
     ]
    }
   ],
   "source": [
    "#2\n",
    "n = int(input('Enter number of rows : '))\n",
    "\n",
    "i = 1\n",
    "while i <= n :\n",
    "    j = n\n",
    "    while j >= i:\n",
    "        print(\"*\", end = \" \")\n",
    "        j -= 1\n",
    "    print()\n",
    "    i += 1\n"
   ]
  },
  {
   "cell_type": "code",
   "execution_count": 12,
   "id": "64235b3d-e8e2-4596-ae23-6101424dee0b",
   "metadata": {},
   "outputs": [
    {
     "name": "stdin",
     "output_type": "stream",
     "text": [
      "Enter number of rows :  5\n"
     ]
    },
    {
     "name": "stdout",
     "output_type": "stream",
     "text": [
      "  1 \n",
      "  2   3 \n",
      "  4   5   6 \n",
      "  7   8   9  10 \n",
      " 11  12  13  14  15 \n"
     ]
    }
   ],
   "source": [
    "#3\n",
    "n = int(input('Enter number of rows : '))\n",
    " \n",
    "k = 1\n",
    "i = 1\n",
    "while i <= n :\n",
    "    j = 1\n",
    "    while j <= i:\n",
    "        print(\"{:3d}\".format(k), end = \" \")\n",
    "        j += 1\n",
    "        k += 1\n",
    "    print()\n",
    "    i += 1"
   ]
  },
  {
   "cell_type": "code",
   "execution_count": 14,
   "id": "45eafc0c-e8e2-4eb0-ac16-9f90dde57bd4",
   "metadata": {},
   "outputs": [
    {
     "name": "stdout",
     "output_type": "stream",
     "text": [
      "10\n",
      "9\n",
      "8\n",
      "7\n",
      "6\n",
      "5\n",
      "4\n",
      "3\n",
      "2\n",
      "1\n"
     ]
    }
   ],
   "source": [
    "# Q.7 Reverse while loop to display number from 10 to 1.\n",
    "\n",
    "num=10\n",
    "\n",
    "while num>=1:\n",
    "    print(num)\n",
    "    num=num-1\n",
    "    "
   ]
  },
  {
   "cell_type": "code",
   "execution_count": null,
   "id": "b762a0f4-d74f-45a8-ada6-b1952ef8e866",
   "metadata": {},
   "outputs": [],
   "source": []
  }
 ],
 "metadata": {
  "kernelspec": {
   "display_name": "Python 3 (ipykernel)",
   "language": "python",
   "name": "python3"
  },
  "language_info": {
   "codemirror_mode": {
    "name": "ipython",
    "version": 3
   },
   "file_extension": ".py",
   "mimetype": "text/x-python",
   "name": "python",
   "nbconvert_exporter": "python",
   "pygments_lexer": "ipython3",
   "version": "3.10.8"
  }
 },
 "nbformat": 4,
 "nbformat_minor": 5
}
